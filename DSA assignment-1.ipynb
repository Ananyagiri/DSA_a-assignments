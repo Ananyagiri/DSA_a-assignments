{
 "cells": [
  {
   "cell_type": "markdown",
   "id": "878b39d7",
   "metadata": {},
   "source": [
    "# Q1. Write a program to find all pairs of an integer array whose sum is equal to a given number?"
   ]
  },
  {
   "cell_type": "code",
   "execution_count": 3,
   "id": "ff1a09d4",
   "metadata": {},
   "outputs": [
    {
     "name": "stdout",
     "output_type": "stream",
     "text": [
      "Enter the length of the array: 5\n",
      "Enter the summation: 7\n",
      "1\n",
      "2\n",
      "3\n",
      "4\n",
      "5\n",
      "[1, 2, 3, 4, 5]\n",
      "The pairs of an integer array arr whose sum is equal to s are:\n",
      "(2, 5)\n",
      "(3, 4)\n"
     ]
    }
   ],
   "source": [
    "n=int(input(\"Enter the length of the array: \"))\n",
    "arr=[]\n",
    "s=int(input(\"Enter the summation: \"))\n",
    "for i in range(0,n):\n",
    "    i=int(input())\n",
    "    arr.append(i)\n",
    "print(arr)\n",
    "print(\"The pairs of an integer array arr whose sum is equal to s are:\")\n",
    "for j in range(0,n):\n",
    "    for k in range(j+1,n):\n",
    "        if arr[k]+arr[j]==s:\n",
    "            print((arr[j],arr[k]))  \n",
    "    \n",
    "    "
   ]
  },
  {
   "cell_type": "markdown",
   "id": "41cf6781",
   "metadata": {},
   "source": [
    "# Q2. Write a program to reverse an array in place? In place means you cannot create a new array. You have to update the original array."
   ]
  },
  {
   "cell_type": "code",
   "execution_count": 6,
   "id": "44c4a0b2",
   "metadata": {},
   "outputs": [
    {
     "name": "stdout",
     "output_type": "stream",
     "text": [
      "The reverse updated array for arr2 is: [10, 9, 8, 7, 6, 5, 4, 3, 2, 1]\n"
     ]
    }
   ],
   "source": [
    "arr2=[1,2,3,4,5,6,7,8,9,10]\n",
    "arr2[::]=arr2[::-1]\n",
    "print(\"The reverse updated array for arr2 is:\", arr2)"
   ]
  },
  {
   "cell_type": "markdown",
   "id": "d47b2258",
   "metadata": {},
   "source": [
    "# Q3. Write a program to check if two strings are a rotation of each other?"
   ]
  },
  {
   "cell_type": "code",
   "execution_count": 17,
   "id": "8a976b74",
   "metadata": {},
   "outputs": [
    {
     "name": "stdout",
     "output_type": "stream",
     "text": [
      "Passed! \n",
      "s2 is the rotation of s1\n"
     ]
    }
   ],
   "source": [
    "s1='AnanyaGiri'\n",
    "s2='iriGaynanA'\n",
    "c=0\n",
    "for i in range(len(s1)):\n",
    "    if s1[i]==s2[-(i+1)]:\n",
    "        c+=1\n",
    "if c==len(s1):\n",
    "    print(\"Passed! \\ns2 is the rotation of s1\")\n",
    "else:\n",
    "    print(\"Failed! \\ns2 is notthe rotation of s1\")"
   ]
  },
  {
   "cell_type": "markdown",
   "id": "124efd71",
   "metadata": {},
   "source": [
    "# Q4. Write a program to print the first non-repeated character from a string?"
   ]
  },
  {
   "cell_type": "code",
   "execution_count": 48,
   "id": "7fc5910d",
   "metadata": {},
   "outputs": [
    {
     "name": "stdout",
     "output_type": "stream",
     "text": [
      "The first non-repeated character from st is: j\n"
     ]
    }
   ],
   "source": [
    "st=\"th jhuoluu khutdkl\"\n",
    "c=0\n",
    "for ch in st:\n",
    "    if st.count(ch)==1:\n",
    "        print(\"The first non-repeated character from st is:\", ch)\n",
    "        break   "
   ]
  },
  {
   "cell_type": "markdown",
   "id": "d5c4f212",
   "metadata": {},
   "source": [
    "# Q5. Read about the Tower of Hanoi algorithm. Write a program to implement it."
   ]
  },
  {
   "cell_type": "code",
   "execution_count": 49,
   "id": "f2bb97fd",
   "metadata": {},
   "outputs": [
    {
     "name": "stdout",
     "output_type": "stream",
     "text": [
      "3\n",
      "Move disk 1 from A to C\n",
      "Move disk 2 from A to B\n",
      "Move disk 1 from C to B\n",
      "Move disk 3 from A to C\n",
      "Move disk 1 from B to A\n",
      "Move disk 2 from B to C\n",
      "Move disk 1 from A to C\n"
     ]
    }
   ],
   "source": [
    "def Towerof_Hanoi(n , s_rod, d_rod, x_rod):\n",
    "    if n == 1:\n",
    "        print(\"Move disk 1 from\",s_rod,\"to\",d_rod)\n",
    "        return\n",
    "    Towerof_Hanoi(n-1, s_rod, x_rod, d_rod)\n",
    "    print(\"Move disk\",n,\"from\",s_rod,\"to\",d_rod)\n",
    "    Towerof_Hanoi(n-1, x_rod, d_rod, s_rod)\n",
    "         \n",
    "n = int(input())\n",
    "Towerof_Hanoi(n, 'A', 'C', 'B')\n"
   ]
  },
  {
   "cell_type": "markdown",
   "id": "be08e141",
   "metadata": {},
   "source": [
    "# Q6. Read about infix, prefix and postfix expressions. Write a program to convert postfix to prefix expression."
   ]
  },
  {
   "cell_type": "code",
   "execution_count": 90,
   "id": "3e8ea115",
   "metadata": {},
   "outputs": [
    {
     "name": "stdout",
     "output_type": "stream",
     "text": [
      "Prefix for this postfix: *+AB-CD\n"
     ]
    }
   ],
   "source": [
    "def is_operator(x):\n",
    " \n",
    "    if x == \"+\":\n",
    "        return True\n",
    "    if x == \"-\":\n",
    "        return True\n",
    "    if x == \"/\":\n",
    "        return True\n",
    "    if x == \"*\":\n",
    "        return True\n",
    "    if x == \"(\" or x==\"{\" or x==\"[\":\n",
    "        return True\n",
    "    if x == \")\" or x==\"}\" or x==\"]\":\n",
    "        return True\n",
    "    else:\n",
    "        return False\n",
    "\n",
    "def postToPre(postfix):\n",
    "    s = []\n",
    "    n = len(postfix)\n",
    "\n",
    "    for i in range(n):\n",
    "        if (is_operator(postfix[i])):\n",
    "            a1 = s[-1]\n",
    "            s.pop()\n",
    "            a2 = s[-1]\n",
    "            s.pop()\n",
    "            temp_node = postfix[i] + a2 + a1\n",
    "            s.append(temp_node)\n",
    "        else:\n",
    "            s.append(postfix[i])\n",
    " \n",
    "    \n",
    "    k = \"\"\n",
    "    for i in s:\n",
    "        k += i\n",
    "    return k\n",
    " \n",
    "if __name__ == \"__main__\":\n",
    " \n",
    "    postfix = \"AB+CD-*\"\n",
    "    print(\"Prefix for this postfix:\", postToPre(postfix))\n",
    " "
   ]
  },
  {
   "cell_type": "markdown",
   "id": "daf029f5",
   "metadata": {},
   "source": [
    "# Q7. Write a program to convert prefix expression to infix expression."
   ]
  },
  {
   "cell_type": "code",
   "execution_count": 88,
   "id": "54ed6a66",
   "metadata": {},
   "outputs": [
    {
     "name": "stdout",
     "output_type": "stream",
     "text": [
      "infix for this prefix is: ((A+B)*C)\n"
     ]
    }
   ],
   "source": [
    "def is_operator(x):\n",
    " \n",
    "    if x == \"+\":\n",
    "        return True\n",
    "    if x == \"-\":\n",
    "        return True\n",
    "    if x == \"/\":\n",
    "        return True\n",
    "    if x == \"*\":\n",
    "        return True\n",
    "    if x == \"(\" or x==\"{\" or x==\"[\":\n",
    "        return True\n",
    "    if x == \")\" or x==\"}\" or x==\"]\":\n",
    "        return True\n",
    "    else:\n",
    "        return False\n",
    "\n",
    "def prefixToInfix(prefix):\n",
    "    s = []\n",
    "    i = len(prefix) - 1\n",
    "    while i >= 0:\n",
    "        if not is_operator(prefix[i]):\n",
    "            s.append(prefix[i])\n",
    "            i -= 1\n",
    "        else:\n",
    "            str = \"(\" + s.pop() + prefix[i] + s.pop() + \")\"\n",
    "            s.append(str)\n",
    "            i -= 1\n",
    "     \n",
    "    return s.pop()\n",
    "\n",
    "\n",
    "if __name__==\"__main__\":\n",
    "    exp = \"*+ABC\"\n",
    "    print(\"infix for this prefix is:\", prefixToInfix(exp))\n",
    "     "
   ]
  },
  {
   "cell_type": "markdown",
   "id": "6c9d1b58",
   "metadata": {},
   "source": [
    "# Q8. Write a program to check if all the brackets are closed in a given code snippet."
   ]
  },
  {
   "cell_type": "code",
   "execution_count": 64,
   "id": "3837573a",
   "metadata": {},
   "outputs": [
    {
     "name": "stdout",
     "output_type": "stream",
     "text": [
      "All brackets are not closed\n"
     ]
    }
   ],
   "source": [
    "def Brackets(expr):\n",
    "    s= []\n",
    "\n",
    "    for char in expr:\n",
    "        if i in [\"(\", \"{\", \"[\"]:\n",
    "            s.append(i)\n",
    "        else:\n",
    "            if not s:\n",
    "                return False\n",
    "            j = s.pop()\n",
    "            if j == '(':\n",
    "                if i != \")\":\n",
    "                    return False\n",
    "            if current_char == '{':\n",
    "                if i != \"}\":\n",
    "                    return False\n",
    "            if j == '[':\n",
    "                if i != \"]\":\n",
    "                    return False\n",
    "    if s:\n",
    "        return False\n",
    "    return True\n",
    " \n",
    "\n",
    "if __name__ == \"__main__\":\n",
    "    expr = \"[{()}]\"\n",
    "\n",
    "    if Brackets(expr):\n",
    "        print(\"All brackets are closed\")\n",
    "    else:\n",
    "        print(\"All brackets are not closed\")\n",
    " "
   ]
  },
  {
   "cell_type": "markdown",
   "id": "321b5fc9",
   "metadata": {},
   "source": [
    "# Q9. Write a program to reverse a stack."
   ]
  },
  {
   "cell_type": "code",
   "execution_count": 70,
   "id": "42cefbf8",
   "metadata": {},
   "outputs": [
    {
     "name": "stdout",
     "output_type": "stream",
     "text": [
      "Given Stack \n",
      "1 2 3 4 5 \n",
      "Reversed Stack \n",
      "5 4 3 2 1 \n"
     ]
    }
   ],
   "source": [
    "def insert(stack, item):\n",
    "    if isEmpty(stack):\n",
    "        push(stack, item)\n",
    "    else:\n",
    "        temp_node = pop(stack)\n",
    "        insert(stack, item)\n",
    "        push(stack, temp_node)\n",
    "\n",
    "def reverse(stack):\n",
    "    if not isEmpty(stack):\n",
    "        temp_node = pop(stack)\n",
    "        reverse(stack)\n",
    "        insert(stack, temp_node)\n",
    "\n",
    "def createStack():\n",
    "    stack = []\n",
    "    return stack\n",
    " \n",
    "\n",
    "def isEmpty( stack ):\n",
    "    return len(stack) == 0\n",
    "\n",
    "def push( stack, item ):\n",
    "    stack.append( item )\n",
    "\n",
    "def pop( stack ):\n",
    " \n",
    "    if(isEmpty( stack )):\n",
    "        print(\"Stack Underflow \")\n",
    "        exit(1)\n",
    " \n",
    "    return stack.pop()\n",
    "\n",
    "def prints(stack):\n",
    "    for i in range(len(stack)-1, -1, -1):\n",
    "        print(stack[i], end = ' ')\n",
    "    print()\n",
    "\n",
    "stack = createStack()\n",
    "push( stack, 5 )\n",
    "push( stack, 4 )\n",
    "push( stack, 3 )\n",
    "push( stack, 2 )\n",
    "push( stack, 1 )\n",
    "print(\"Given Stack \")\n",
    "prints(stack)\n",
    " \n",
    "reverse(stack)\n",
    " \n",
    "print(\"Reversed Stack \")\n",
    "prints(stack)\n",
    " \n"
   ]
  },
  {
   "cell_type": "markdown",
   "id": "eca910c6",
   "metadata": {},
   "source": [
    "# Q10. Write a program to find the smallest number in using a stack."
   ]
  },
  {
   "cell_type": "code",
   "execution_count": 95,
   "id": "33345355",
   "metadata": {},
   "outputs": [
    {
     "name": "stdout",
     "output_type": "stream",
     "text": [
      "Smallest number is: 3\n"
     ]
    }
   ],
   "source": [
    "class Node:\n",
    "\n",
    "    def __init__(self, value):\n",
    "        self.value = value\n",
    "        self.next = None\n",
    "\n",
    "    def __str__(self):\n",
    "        return \"Node({})\".format(self.value)\n",
    "     \n",
    "\n",
    "class Stack:\n",
    "\n",
    "    def __init__(self):\n",
    "        self.top = None\n",
    "        self.count = 0\n",
    "        self.minimum = None\n",
    "         \n",
    "\n",
    "    def isEmpty(self):\n",
    "\n",
    "        if self.top == None:\n",
    "            return True\n",
    "        else:\n",
    "            return False\n",
    " \n",
    "\n",
    "    def __str__(self):\n",
    "        temp = self.top\n",
    "        out = []\n",
    "        while temp:\n",
    "            out.append(str(temp.value))\n",
    "            temp = temp.next\n",
    "        out = '\\n'.join(out)\n",
    "        return ('Top {} \\n\\nStack :\\n{}'.format(self.top,out))\n",
    "         \n",
    "     \n",
    "\n",
    "    def getMin(self):\n",
    "        if self.top is None:\n",
    "            return \"Stack is empty\"\n",
    "        else:\n",
    "            print(\"Smallest number is:\", format(self.minimum))\n",
    " \n",
    " \n",
    "\n",
    "\n",
    "    def __len__(self):\n",
    "        self.count = 0\n",
    "        tempNode = self.top\n",
    "        while tempNode:\n",
    "            tempNode = tempNode.next\n",
    "            self.count+=1\n",
    "        return self.count\n",
    " \n",
    "\n",
    "    def peek(self):\n",
    "        if self.top is None:\n",
    "            print (\"stack is empty\")\n",
    "\n",
    "\n",
    " \n",
    "    def push(self,value):\n",
    "        if self.top is None:\n",
    "            self.top = Node(value)\n",
    "            self.minimum = value\n",
    "         \n",
    "        elif value < self.minimum:\n",
    "            temp = (2 * value) - self.minimum\n",
    "            new_node = Node(temp)\n",
    "            new_node.next = self.top\n",
    "            self.top = new_node\n",
    "            self.minimum = value\n",
    "        else:\n",
    "            new_node = Node(value)\n",
    "            new_node.next = self.top\n",
    "            self.top = new_node\n",
    "\n",
    " \n",
    "    def pop(self):\n",
    "        if self.top is None:\n",
    "            print( \"stack is empty\")\n",
    "        else:\n",
    "            removedNode = self.top.value\n",
    "            self.top = self.top.next\n",
    "            if removedNode < self.minimum:\n",
    "                self.minimum = ( 2 * self.minimum ) - removedNode\n",
    "             \n",
    "\n",
    "\n",
    "            \n",
    "stack = Stack()\n",
    " \n",
    "stack.push(3)\n",
    "stack.push(8)\n",
    "stack.push(12)\n",
    "stack.push(7)\n",
    "stack.push(9)\n",
    "stack.getMin() "
   ]
  },
  {
   "cell_type": "code",
   "execution_count": null,
   "id": "1ef7aae9",
   "metadata": {},
   "outputs": [],
   "source": []
  }
 ],
 "metadata": {
  "kernelspec": {
   "display_name": "Python 3 (ipykernel)",
   "language": "python",
   "name": "python3"
  },
  "language_info": {
   "codemirror_mode": {
    "name": "ipython",
    "version": 3
   },
   "file_extension": ".py",
   "mimetype": "text/x-python",
   "name": "python",
   "nbconvert_exporter": "python",
   "pygments_lexer": "ipython3",
   "version": "3.9.6"
  }
 },
 "nbformat": 4,
 "nbformat_minor": 5
}
